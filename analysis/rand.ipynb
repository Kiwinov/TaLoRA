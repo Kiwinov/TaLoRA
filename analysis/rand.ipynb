{
 "cells": [
  {
   "cell_type": "code",
   "execution_count": 6,
   "id": "e2cf8a0a",
   "metadata": {},
   "outputs": [],
   "source": [
    "import pandas as pd\n",
    "df = pd.read_csv(\"/Users/sam/Downloads/Raw_data_1Hr_2024_site_165_City_Railway_Station_Bengaluru_KSPCB_1Hr.csv\")"
   ]
  },
  {
   "cell_type": "code",
   "execution_count": 8,
   "id": "0aecd5fb",
   "metadata": {},
   "outputs": [],
   "source": [
    "df[\"Timestamp\"] = pd.to_datetime(df[\"Timestamp\"])\n",
    "\n",
    "# filter rows where month is 1, 4, or 8\n",
    "df_filtered = df[df[\"Timestamp\"].dt.month.isin([1, 4, 8])]"
   ]
  },
  {
   "cell_type": "code",
   "execution_count": 9,
   "id": "873db3d8",
   "metadata": {},
   "outputs": [],
   "source": [
    "# Keep only required columns\n",
    "df_filtered = df_filtered.loc[:, [\"Timestamp\", \"WS (m/s)\", \"WD (deg)\", \"VWS (m/s)\"]]\n",
    "\n",
    "# Decompose timestamp\n",
    "df_filtered[\"Year\"] = df_filtered[\"Timestamp\"].dt.year\n",
    "df_filtered[\"Month\"] = df_filtered[\"Timestamp\"].dt.month\n",
    "df_filtered[\"Day\"] = df_filtered[\"Timestamp\"].dt.day\n",
    "df_filtered[\"Hour\"] = df_filtered[\"Timestamp\"].dt.hour\n",
    "\n",
    "# Reset index\n",
    "df_filtered = df_filtered.reset_index(drop=True)"
   ]
  },
  {
   "cell_type": "code",
   "execution_count": 10,
   "id": "6b153905",
   "metadata": {},
   "outputs": [],
   "source": [
    "df_filtered.to_csv(\"/Users/sam/Downloads/filt.csv\")"
   ]
  },
  {
   "cell_type": "code",
   "execution_count": 18,
   "id": "413a79c6",
   "metadata": {},
   "outputs": [
    {
     "data": {
      "text/plain": [
       "WS (m/s)\n",
       "False    2103\n",
       "True      105\n",
       "Name: count, dtype: int64"
      ]
     },
     "execution_count": 18,
     "metadata": {},
     "output_type": "execute_result"
    }
   ],
   "source": [
    "df_filtered[\"WS (m/s)\"].isna().value_counts()"
   ]
  },
  {
   "cell_type": "code",
   "execution_count": 25,
   "id": "5a8061c5",
   "metadata": {},
   "outputs": [
    {
     "name": "stdout",
     "output_type": "stream",
     "text": [
      "[1, 3, 5]\n"
     ]
    }
   ],
   "source": [
    "print(list(reversed(range(len([1,12,3,3, 4, 7]))[::-1][::2])))"
   ]
  },
  {
   "cell_type": "code",
   "execution_count": 27,
   "id": "20d0051b",
   "metadata": {},
   "outputs": [
    {
     "name": "stdout",
     "output_type": "stream",
     "text": [
      "[2]\n"
     ]
    }
   ],
   "source": [
    "print([1,2][1:])"
   ]
  },
  {
   "cell_type": "code",
   "execution_count": null,
   "id": "ef998dd3",
   "metadata": {},
   "outputs": [],
   "source": []
  }
 ],
 "metadata": {
  "kernelspec": {
   "display_name": "indic-speech-adapter (3.12.10)",
   "language": "python",
   "name": "python3"
  },
  "language_info": {
   "codemirror_mode": {
    "name": "ipython",
    "version": 3
   },
   "file_extension": ".py",
   "mimetype": "text/x-python",
   "name": "python",
   "nbconvert_exporter": "python",
   "pygments_lexer": "ipython3",
   "version": "3.12.10"
  }
 },
 "nbformat": 4,
 "nbformat_minor": 5
}
